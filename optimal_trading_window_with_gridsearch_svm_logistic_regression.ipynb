{
 "cells": [
  {
   "cell_type": "code",
   "execution_count": 1,
   "id": "a3b017f7-37d8-4b34-ba96-a3a51dd5a002",
   "metadata": {},
   "outputs": [],
   "source": [
    "import pandas as pd \n",
    "import numpy as np\n",
    "from sklearn.model_selection import GridSearchCV\n",
    "#import matplotlib as plt\n",
    "from fastquant import get_stock_data \n",
    "from fastquant import backtest\n",
    "from matplotlib import warnings\n",
    "%matplotlib inline"
   ]
  },
  {
   "cell_type": "code",
   "execution_count": 2,
   "id": "473257e3-6c57-437c-953e-1e0328ceaf67",
   "metadata": {},
   "outputs": [
    {
     "name": "stdout",
     "output_type": "stream",
     "text": [
      "[*********************100%***********************]  1 of 1 completed\n"
     ]
    }
   ],
   "source": [
    "price_df = get_stock_data('TSLA', '2018-01-01', '2021-12-31')\n",
    "closing_price_df=price_df"
   ]
  },
  {
   "cell_type": "code",
   "execution_count": 3,
   "id": "492ee759-0de6-4ae0-a051-48640100587b",
   "metadata": {},
   "outputs": [],
   "source": [
    "starting_value = 1"
   ]
  },
  {
   "cell_type": "code",
   "execution_count": 4,
   "id": "2c71c524-7c3f-431d-a494-9e61bcb9c6b9",
   "metadata": {},
   "outputs": [
    {
     "data": {
      "text/html": [
       "<div>\n",
       "<style scoped>\n",
       "    .dataframe tbody tr th:only-of-type {\n",
       "        vertical-align: middle;\n",
       "    }\n",
       "\n",
       "    .dataframe tbody tr th {\n",
       "        vertical-align: top;\n",
       "    }\n",
       "\n",
       "    .dataframe thead th {\n",
       "        text-align: right;\n",
       "    }\n",
       "</style>\n",
       "<table border=\"1\" class=\"dataframe\">\n",
       "  <thead>\n",
       "    <tr style=\"text-align: right;\">\n",
       "      <th></th>\n",
       "      <th>fast_period</th>\n",
       "      <th>slow_period</th>\n",
       "      <th>final_value</th>\n",
       "    </tr>\n",
       "  </thead>\n",
       "  <tbody>\n",
       "    <tr>\n",
       "      <th>0</th>\n",
       "      <td>8</td>\n",
       "      <td>10</td>\n",
       "      <td>1.768379e+06</td>\n",
       "    </tr>\n",
       "    <tr>\n",
       "      <th>1</th>\n",
       "      <td>7</td>\n",
       "      <td>10</td>\n",
       "      <td>1.316885e+06</td>\n",
       "    </tr>\n",
       "    <tr>\n",
       "      <th>2</th>\n",
       "      <td>6</td>\n",
       "      <td>160</td>\n",
       "      <td>1.309283e+06</td>\n",
       "    </tr>\n",
       "    <tr>\n",
       "      <th>3</th>\n",
       "      <td>7</td>\n",
       "      <td>160</td>\n",
       "      <td>1.299309e+06</td>\n",
       "    </tr>\n",
       "    <tr>\n",
       "      <th>4</th>\n",
       "      <td>8</td>\n",
       "      <td>160</td>\n",
       "      <td>1.298769e+06</td>\n",
       "    </tr>\n",
       "    <tr>\n",
       "      <th>5</th>\n",
       "      <td>9</td>\n",
       "      <td>160</td>\n",
       "      <td>1.296596e+06</td>\n",
       "    </tr>\n",
       "    <tr>\n",
       "      <th>6</th>\n",
       "      <td>5</td>\n",
       "      <td>160</td>\n",
       "      <td>1.250295e+06</td>\n",
       "    </tr>\n",
       "    <tr>\n",
       "      <th>7</th>\n",
       "      <td>6</td>\n",
       "      <td>10</td>\n",
       "      <td>1.026733e+06</td>\n",
       "    </tr>\n",
       "    <tr>\n",
       "      <th>8</th>\n",
       "      <td>9</td>\n",
       "      <td>10</td>\n",
       "      <td>9.481905e+05</td>\n",
       "    </tr>\n",
       "    <tr>\n",
       "      <th>9</th>\n",
       "      <td>6</td>\n",
       "      <td>110</td>\n",
       "      <td>8.751372e+05</td>\n",
       "    </tr>\n",
       "    <tr>\n",
       "      <th>10</th>\n",
       "      <td>5</td>\n",
       "      <td>10</td>\n",
       "      <td>7.778100e+05</td>\n",
       "    </tr>\n",
       "    <tr>\n",
       "      <th>11</th>\n",
       "      <td>6</td>\n",
       "      <td>60</td>\n",
       "      <td>7.731417e+05</td>\n",
       "    </tr>\n",
       "    <tr>\n",
       "      <th>12</th>\n",
       "      <td>7</td>\n",
       "      <td>60</td>\n",
       "      <td>7.092011e+05</td>\n",
       "    </tr>\n",
       "    <tr>\n",
       "      <th>13</th>\n",
       "      <td>8</td>\n",
       "      <td>110</td>\n",
       "      <td>6.912797e+05</td>\n",
       "    </tr>\n",
       "    <tr>\n",
       "      <th>14</th>\n",
       "      <td>8</td>\n",
       "      <td>60</td>\n",
       "      <td>6.765033e+05</td>\n",
       "    </tr>\n",
       "    <tr>\n",
       "      <th>15</th>\n",
       "      <td>7</td>\n",
       "      <td>110</td>\n",
       "      <td>6.707039e+05</td>\n",
       "    </tr>\n",
       "    <tr>\n",
       "      <th>16</th>\n",
       "      <td>9</td>\n",
       "      <td>110</td>\n",
       "      <td>6.453012e+05</td>\n",
       "    </tr>\n",
       "    <tr>\n",
       "      <th>17</th>\n",
       "      <td>5</td>\n",
       "      <td>60</td>\n",
       "      <td>6.309889e+05</td>\n",
       "    </tr>\n",
       "    <tr>\n",
       "      <th>18</th>\n",
       "      <td>9</td>\n",
       "      <td>60</td>\n",
       "      <td>6.190298e+05</td>\n",
       "    </tr>\n",
       "    <tr>\n",
       "      <th>19</th>\n",
       "      <td>5</td>\n",
       "      <td>110</td>\n",
       "      <td>5.801097e+05</td>\n",
       "    </tr>\n",
       "  </tbody>\n",
       "</table>\n",
       "</div>"
      ],
      "text/plain": [
       "    fast_period  slow_period   final_value\n",
       "0             8           10  1.768379e+06\n",
       "1             7           10  1.316885e+06\n",
       "2             6          160  1.309283e+06\n",
       "3             7          160  1.299309e+06\n",
       "4             8          160  1.298769e+06\n",
       "5             9          160  1.296596e+06\n",
       "6             5          160  1.250295e+06\n",
       "7             6           10  1.026733e+06\n",
       "8             9           10  9.481905e+05\n",
       "9             6          110  8.751372e+05\n",
       "10            5           10  7.778100e+05\n",
       "11            6           60  7.731417e+05\n",
       "12            7           60  7.092011e+05\n",
       "13            8          110  6.912797e+05\n",
       "14            8           60  6.765033e+05\n",
       "15            7          110  6.707039e+05\n",
       "16            9          110  6.453012e+05\n",
       "17            5           60  6.309889e+05\n",
       "18            9           60  6.190298e+05\n",
       "19            5          110  5.801097e+05"
      ]
     },
     "execution_count": 4,
     "metadata": {},
     "output_type": "execute_result"
    }
   ],
   "source": [
    "results = backtest('smac', closing_price_df, fast_period=range(5,10,1), slow_period=range(10, 200, 50), verbose = False, plot =False)\n",
    "results[['fast_period', 'slow_period', 'final_value']]"
   ]
  },
  {
   "cell_type": "code",
   "execution_count": 5,
   "id": "ff4656c9-a06b-41b5-80bc-598ee8f52bf8",
   "metadata": {},
   "outputs": [],
   "source": [
    "def moving_avg_trading(ticker, start, end): #yyyy-mm-dd\n",
    "    price_df = get_stock_data(ticker, start, end)\n",
    "    results = backtest('smac', price_df, fast_period=range(5,10,1), slow_period=range(10, 200, 50), verbose = False, plot =False)\n",
    "    results[['fast_period', 'slow_period', 'final_value']]  \n",
    "    pnl = pd.DataFrame(results[['fast_period', 'slow_period', 'final_value']])\n",
    "    pnl1=pnl\n",
    "    display(price_df.head())\n",
    "    display(pnl.head())\n",
    "    display(pnl.plot(kind='scatter', x='fast_period', y='final_value', color='blue'))\n",
    "    display(pnl1.plot(kind='scatter', x='slow_period', y='final_value', color='red'))"
   ]
  },
  {
   "cell_type": "code",
   "execution_count": 6,
   "id": "21a8cd17-b9cb-45c1-9eb4-278a7aceadab",
   "metadata": {},
   "outputs": [
    {
     "name": "stdout",
     "output_type": "stream",
     "text": [
      "[*********************100%***********************]  1 of 1 completed\n"
     ]
    },
    {
     "data": {
      "text/html": [
       "<div>\n",
       "<style scoped>\n",
       "    .dataframe tbody tr th:only-of-type {\n",
       "        vertical-align: middle;\n",
       "    }\n",
       "\n",
       "    .dataframe tbody tr th {\n",
       "        vertical-align: top;\n",
       "    }\n",
       "\n",
       "    .dataframe thead th {\n",
       "        text-align: right;\n",
       "    }\n",
       "</style>\n",
       "<table border=\"1\" class=\"dataframe\">\n",
       "  <thead>\n",
       "    <tr style=\"text-align: right;\">\n",
       "      <th></th>\n",
       "      <th>open</th>\n",
       "      <th>high</th>\n",
       "      <th>low</th>\n",
       "      <th>close</th>\n",
       "      <th>volume</th>\n",
       "      <th>dividend</th>\n",
       "    </tr>\n",
       "    <tr>\n",
       "      <th>dt</th>\n",
       "      <th></th>\n",
       "      <th></th>\n",
       "      <th></th>\n",
       "      <th></th>\n",
       "      <th></th>\n",
       "      <th></th>\n",
       "    </tr>\n",
       "  </thead>\n",
       "  <tbody>\n",
       "    <tr>\n",
       "      <th>2018-01-02</th>\n",
       "      <td>62.400002</td>\n",
       "      <td>64.421997</td>\n",
       "      <td>62.200001</td>\n",
       "      <td>64.106003</td>\n",
       "      <td>21761000</td>\n",
       "      <td>0</td>\n",
       "    </tr>\n",
       "    <tr>\n",
       "      <th>2018-01-03</th>\n",
       "      <td>64.199997</td>\n",
       "      <td>65.050003</td>\n",
       "      <td>63.110001</td>\n",
       "      <td>63.450001</td>\n",
       "      <td>22607500</td>\n",
       "      <td>0</td>\n",
       "    </tr>\n",
       "    <tr>\n",
       "      <th>2018-01-04</th>\n",
       "      <td>62.574001</td>\n",
       "      <td>63.709999</td>\n",
       "      <td>61.136002</td>\n",
       "      <td>62.924000</td>\n",
       "      <td>49731500</td>\n",
       "      <td>0</td>\n",
       "    </tr>\n",
       "    <tr>\n",
       "      <th>2018-01-05</th>\n",
       "      <td>63.324001</td>\n",
       "      <td>63.448002</td>\n",
       "      <td>62.400002</td>\n",
       "      <td>63.316002</td>\n",
       "      <td>22956000</td>\n",
       "      <td>0</td>\n",
       "    </tr>\n",
       "    <tr>\n",
       "      <th>2018-01-08</th>\n",
       "      <td>63.200001</td>\n",
       "      <td>67.403999</td>\n",
       "      <td>63.099998</td>\n",
       "      <td>67.281998</td>\n",
       "      <td>49297000</td>\n",
       "      <td>0</td>\n",
       "    </tr>\n",
       "  </tbody>\n",
       "</table>\n",
       "</div>"
      ],
      "text/plain": [
       "                 open       high        low      close    volume  dividend\n",
       "dt                                                                        \n",
       "2018-01-02  62.400002  64.421997  62.200001  64.106003  21761000         0\n",
       "2018-01-03  64.199997  65.050003  63.110001  63.450001  22607500         0\n",
       "2018-01-04  62.574001  63.709999  61.136002  62.924000  49731500         0\n",
       "2018-01-05  63.324001  63.448002  62.400002  63.316002  22956000         0\n",
       "2018-01-08  63.200001  67.403999  63.099998  67.281998  49297000         0"
      ]
     },
     "metadata": {},
     "output_type": "display_data"
    },
    {
     "data": {
      "text/html": [
       "<div>\n",
       "<style scoped>\n",
       "    .dataframe tbody tr th:only-of-type {\n",
       "        vertical-align: middle;\n",
       "    }\n",
       "\n",
       "    .dataframe tbody tr th {\n",
       "        vertical-align: top;\n",
       "    }\n",
       "\n",
       "    .dataframe thead th {\n",
       "        text-align: right;\n",
       "    }\n",
       "</style>\n",
       "<table border=\"1\" class=\"dataframe\">\n",
       "  <thead>\n",
       "    <tr style=\"text-align: right;\">\n",
       "      <th></th>\n",
       "      <th>fast_period</th>\n",
       "      <th>slow_period</th>\n",
       "      <th>final_value</th>\n",
       "    </tr>\n",
       "  </thead>\n",
       "  <tbody>\n",
       "    <tr>\n",
       "      <th>0</th>\n",
       "      <td>8</td>\n",
       "      <td>10</td>\n",
       "      <td>1.768379e+06</td>\n",
       "    </tr>\n",
       "    <tr>\n",
       "      <th>1</th>\n",
       "      <td>7</td>\n",
       "      <td>10</td>\n",
       "      <td>1.316885e+06</td>\n",
       "    </tr>\n",
       "    <tr>\n",
       "      <th>2</th>\n",
       "      <td>6</td>\n",
       "      <td>160</td>\n",
       "      <td>1.309283e+06</td>\n",
       "    </tr>\n",
       "    <tr>\n",
       "      <th>3</th>\n",
       "      <td>7</td>\n",
       "      <td>160</td>\n",
       "      <td>1.299309e+06</td>\n",
       "    </tr>\n",
       "    <tr>\n",
       "      <th>4</th>\n",
       "      <td>8</td>\n",
       "      <td>160</td>\n",
       "      <td>1.298769e+06</td>\n",
       "    </tr>\n",
       "  </tbody>\n",
       "</table>\n",
       "</div>"
      ],
      "text/plain": [
       "   fast_period  slow_period   final_value\n",
       "0            8           10  1.768379e+06\n",
       "1            7           10  1.316885e+06\n",
       "2            6          160  1.309283e+06\n",
       "3            7          160  1.299309e+06\n",
       "4            8          160  1.298769e+06"
      ]
     },
     "metadata": {},
     "output_type": "display_data"
    },
    {
     "data": {
      "text/plain": [
       "<matplotlib.axes._subplots.AxesSubplot at 0x1f5c4e74888>"
      ]
     },
     "metadata": {},
     "output_type": "display_data"
    },
    {
     "data": {
      "text/plain": [
       "<matplotlib.axes._subplots.AxesSubplot at 0x1f5c4ce8048>"
      ]
     },
     "metadata": {},
     "output_type": "display_data"
    },
    {
     "data": {
      "image/png": "[encoded data removed]",
      "text/plain": [
       "<Figure size 432x288 with 1 Axes>"
      ]
     },
     "metadata": {
      "needs_background": "light"
     },
     "output_type": "display_data"
    },
    {
     "data": {
      "image/png": "[encoded data removed]",
      "text/plain": [
       "<Figure size 432x288 with 1 Axes>"
      ]
     },
     "metadata": {
      "needs_background": "light"
     },
     "output_type": "display_data"
    }
   ],
   "source": [
    "moving_avg_trading('tsla','2018-01-01', '2021-12-31')"
   ]
  },
  {
   "cell_type": "code",
   "execution_count": null,
   "id": "592aad9e-ac08-4a5b-9318-23b399fd6dc8",
   "metadata": {},
   "outputs": [],
   "source": [
    "'------------------------------------------'"
   ]
  },
  {
   "cell_type": "code",
   "execution_count": 7,
   "id": "0b54e291-0b8b-4356-a169-012d636add74",
   "metadata": {},
   "outputs": [],
   "source": [
    "asset_data=closing_price_df"
   ]
  },
  {
   "cell_type": "code",
   "execution_count": 8,
   "id": "33e19183-a08e-4082-9c2c-e31e9e23d11f",
   "metadata": {},
   "outputs": [
    {
     "name": "stdout",
     "output_type": "stream",
     "text": [
      "[*********************100%***********************]  1 of 1 completed\n"
     ]
    },
    {
     "data": {
      "text/html": [
       "<div>\n",
       "<style scoped>\n",
       "    .dataframe tbody tr th:only-of-type {\n",
       "        vertical-align: middle;\n",
       "    }\n",
       "\n",
       "    .dataframe tbody tr th {\n",
       "        vertical-align: top;\n",
       "    }\n",
       "\n",
       "    .dataframe thead th {\n",
       "        text-align: right;\n",
       "    }\n",
       "</style>\n",
       "<table border=\"1\" class=\"dataframe\">\n",
       "  <thead>\n",
       "    <tr style=\"text-align: right;\">\n",
       "      <th></th>\n",
       "      <th>close</th>\n",
       "      <th>volume</th>\n",
       "    </tr>\n",
       "    <tr>\n",
       "      <th>dt</th>\n",
       "      <th></th>\n",
       "      <th></th>\n",
       "    </tr>\n",
       "  </thead>\n",
       "  <tbody>\n",
       "    <tr>\n",
       "      <th>2018-01-02</th>\n",
       "      <td>64.106003</td>\n",
       "      <td>21761000</td>\n",
       "    </tr>\n",
       "    <tr>\n",
       "      <th>2018-01-03</th>\n",
       "      <td>63.450001</td>\n",
       "      <td>22607500</td>\n",
       "    </tr>\n",
       "    <tr>\n",
       "      <th>2018-01-04</th>\n",
       "      <td>62.924000</td>\n",
       "      <td>49731500</td>\n",
       "    </tr>\n",
       "    <tr>\n",
       "      <th>2018-01-05</th>\n",
       "      <td>63.316002</td>\n",
       "      <td>22956000</td>\n",
       "    </tr>\n",
       "    <tr>\n",
       "      <th>2018-01-08</th>\n",
       "      <td>67.281998</td>\n",
       "      <td>49297000</td>\n",
       "    </tr>\n",
       "  </tbody>\n",
       "</table>\n",
       "</div>"
      ],
      "text/plain": [
       "                close    volume\n",
       "dt                             \n",
       "2018-01-02  64.106003  21761000\n",
       "2018-01-03  63.450001  22607500\n",
       "2018-01-04  62.924000  49731500\n",
       "2018-01-05  63.316002  22956000\n",
       "2018-01-08  67.281998  49297000"
      ]
     },
     "execution_count": 8,
     "metadata": {},
     "output_type": "execute_result"
    }
   ],
   "source": [
    "from fastquant import get_stock_data, backtest\n",
    "symbol='TSLA'\n",
    "asset_data = get_stock_data(symbol, \n",
    "                    start_date='2018-01-01', \n",
    "                    end_date='2021-06-30',\n",
    "                    format='cv',\n",
    "                   )\n",
    "asset_data.head()"
   ]
  },
  {
   "cell_type": "code",
   "execution_count": 9,
   "id": "16bf40bc-d273-40b7-9dda-c661f9f994b2",
   "metadata": {},
   "outputs": [],
   "source": [
    "import matplotlib.pyplot as pl\n",
    "pl.style.use(\"default\")"
   ]
  },
  {
   "cell_type": "code",
   "execution_count": 10,
   "id": "869fd2a9-1143-4264-9022-867c7652b873",
   "metadata": {},
   "outputs": [
    {
     "ename": "SyntaxError",
     "evalue": "EOL while scanning string literal (Temp/ipykernel_10440/1683900359.py, line 12)",
     "output_type": "error",
     "traceback": [
      "\u001b[1;36m  File \u001b[1;32m\"C:\\Users\\jmuen\\AppData\\Local\\Temp/ipykernel_10440/1683900359.py\"\u001b[1;36m, line \u001b[1;32m12\u001b[0m\n\u001b[1;33m    ''''\u001b[0m\n\u001b[1;37m        \n^\u001b[0m\n\u001b[1;31mSyntaxError\u001b[0m\u001b[1;31m:\u001b[0m EOL while scanning string literal\n"
     ]
    }
   ],
   "source": [
    "'''\n",
    "from fastquant import backtest\n",
    "\n",
    "results = backtest(\"smac\", \n",
    "                   asset_data, \n",
    "                   fast_period=15, \n",
    "                   slow_period=40, \n",
    "                   verbose=False, \n",
    "                   plot=True\n",
    "                  )\n",
    "results.head()\n",
    "''''"
   ]
  },
  {
   "cell_type": "code",
   "execution_count": null,
   "id": "507ee249-b1e1-41f3-9baf-b75dafe197f3",
   "metadata": {},
   "outputs": [],
   "source": []
  },
  {
   "cell_type": "code",
   "execution_count": 11,
   "id": "f36260d1-ca88-4caf-8284-442979f1f860",
   "metadata": {},
   "outputs": [
    {
     "data": {
      "text/plain": [
       "(9, 9)"
      ]
     },
     "execution_count": 11,
     "metadata": {},
     "output_type": "execute_result"
    }
   ],
   "source": [
    "import numpy as np\n",
    "\n",
    "fast_periods = np.arange(1,10,1, dtype=int)\n",
    "slow_periods = np.arange(10,100,10, dtype=int)\n",
    "\n",
    "#creating a grid of 0's (placeholder)\n",
    "period_grid = np.zeros(shape=(len(fast_periods),len(slow_periods)))\n",
    "period_grid.shape\n"
   ]
  },
  {
   "cell_type": "code",
   "execution_count": 12,
   "id": "812199c9-3d82-4dca-ab99-6ecec1f9d2b9",
   "metadata": {},
   "outputs": [],
   "source": [
    "#iterate through multiple trading windows \n",
    "\n",
    "\n",
    "init_cash=0\n",
    "for i,fast_period in enumerate(fast_periods): \n",
    "    for j,slow_period in enumerate(slow_periods):\n",
    "        results = backtest('smac', \n",
    "                           asset_data, \n",
    "                           fast_period=fast_period,\n",
    "                           slow_period=slow_period,\n",
    "                           init_cash=100000,\n",
    "                           verbose=False, \n",
    "                           plot=False\n",
    "                          )\n",
    "        net_profit = results.final_value.values[0]-init_cash\n",
    "        period_grid[i,j] = net_profit\n"
   ]
  },
  {
   "cell_type": "code",
   "execution_count": 13,
   "id": "9173d4b9-d0f3-443f-b389-1cce47865323",
   "metadata": {},
   "outputs": [
    {
     "data": {
      "image/png": "[encoded data removed]",
      "text/plain": [
       "<Figure size 2000x1000 with 2 Axes>"
      ]
     },
     "metadata": {},
     "output_type": "display_data"
    }
   ],
   "source": [
    "import matplotlib.colors as mcolors\n",
    "import matplotlib.pyplot as pl\n",
    "pl.style.use(\"default\")\n",
    "\n",
    "fig, ax = pl.subplots(1,1, figsize=(20,10))\n",
    "xmin, xmax = slow_periods[0],slow_periods[-1]\n",
    "ymin, ymax = fast_periods[0],fast_periods[-1]\n",
    "\n",
    "#make a diverging color map such that profit<0 is red and blue otherwise\n",
    "cmap = pl.get_cmap('RdBu')\n",
    "norm = mcolors.DivergingNorm(vmin=-2000000,\n",
    "                             vmax = 2000000,\n",
    "                             vcenter=0\n",
    "                            )\n",
    "#plot matrix\n",
    "cbar = ax.imshow(period_grid, \n",
    "                 origin='lower', \n",
    "                 interpolation='none', \n",
    "                 extent=[xmin, xmax, ymin, ymax], \n",
    "                 cmap=cmap,\n",
    "                 norm=norm\n",
    "                )\n",
    "pl.colorbar(cbar, ax=ax, shrink=0.9,\n",
    "            label='net profit', orientation=\"horizontal\")\n",
    "\n",
    "# search position with highest net profit\n",
    "y, x = np.unravel_index(np.argmax(period_grid), period_grid.shape)\n",
    "best_slow_period = slow_periods[x]\n",
    "best_fast_period = fast_periods[y]\n",
    "# mark position\n",
    "# ax.annotate(f\"max profit={period_grid[y, x]:.0f}@({best_slow_period}, {best_fast_period}) days\", \n",
    "#             (best_slow_period+5,best_fast_period+1)\n",
    "#            )\n",
    "ax.axvline(best_slow_period, 0, 1, c='k', ls='--')\n",
    "ax.axhline(best_fast_period+0.5, 0, 1, c='k', ls='--')\n",
    "\n",
    "# add labels\n",
    "ax.set_aspect(5)\n",
    "pl.setp(ax,\n",
    "        xlim=(xmin,xmax),\n",
    "        ylim=(ymin,ymax),\n",
    "        xlabel='slow period (days)',\n",
    "        ylabel='fast period (days)',\n",
    "        title='Some Stock w/ SMAC',\n",
    "       );"
   ]
  },
  {
   "cell_type": "code",
   "execution_count": 14,
   "id": "08a6870b-eadd-43b2-9e5b-9b0696e389c5",
   "metadata": {},
   "outputs": [
    {
     "name": "stdout",
     "output_type": "stream",
     "text": [
      "[*********************100%***********************]  1 of 1 completed\n"
     ]
    },
    {
     "data": {
      "text/html": [
       "<div>\n",
       "<style scoped>\n",
       "    .dataframe tbody tr th:only-of-type {\n",
       "        vertical-align: middle;\n",
       "    }\n",
       "\n",
       "    .dataframe tbody tr th {\n",
       "        vertical-align: top;\n",
       "    }\n",
       "\n",
       "    .dataframe thead th {\n",
       "        text-align: right;\n",
       "    }\n",
       "</style>\n",
       "<table border=\"1\" class=\"dataframe\">\n",
       "  <thead>\n",
       "    <tr style=\"text-align: right;\">\n",
       "      <th></th>\n",
       "      <th>close</th>\n",
       "      <th>volume</th>\n",
       "    </tr>\n",
       "    <tr>\n",
       "      <th>dt</th>\n",
       "      <th></th>\n",
       "      <th></th>\n",
       "    </tr>\n",
       "  </thead>\n",
       "  <tbody>\n",
       "    <tr>\n",
       "      <th>2021-12-22</th>\n",
       "      <td>1008.869995</td>\n",
       "      <td>31211400</td>\n",
       "    </tr>\n",
       "    <tr>\n",
       "      <th>2021-12-23</th>\n",
       "      <td>1067.000000</td>\n",
       "      <td>30904400</td>\n",
       "    </tr>\n",
       "    <tr>\n",
       "      <th>2021-12-27</th>\n",
       "      <td>1093.939941</td>\n",
       "      <td>23715300</td>\n",
       "    </tr>\n",
       "    <tr>\n",
       "      <th>2021-12-28</th>\n",
       "      <td>1088.469971</td>\n",
       "      <td>20108000</td>\n",
       "    </tr>\n",
       "    <tr>\n",
       "      <th>2021-12-29</th>\n",
       "      <td>1086.189941</td>\n",
       "      <td>18718000</td>\n",
       "    </tr>\n",
       "  </tbody>\n",
       "</table>\n",
       "</div>"
      ],
      "text/plain": [
       "                  close    volume\n",
       "dt                               \n",
       "2021-12-22  1008.869995  31211400\n",
       "2021-12-23  1067.000000  30904400\n",
       "2021-12-27  1093.939941  23715300\n",
       "2021-12-28  1088.469971  20108000\n",
       "2021-12-29  1086.189941  18718000"
      ]
     },
     "execution_count": 14,
     "metadata": {},
     "output_type": "execute_result"
    }
   ],
   "source": [
    "symbol='TSLA'\n",
    "asset_data = get_stock_data(symbol, \n",
    "                    start_date='2018-01-01', \n",
    "                    end_date='2021-12-30',\n",
    "                    format='cv',\n",
    "                   )\n",
    "asset_data.tail()"
   ]
  },
  {
   "cell_type": "code",
   "execution_count": 15,
   "id": "3c52614b-98da-4eb6-bffb-ab837365ca98",
   "metadata": {},
   "outputs": [],
   "source": [
    "#Using An SVM Model \n",
    "\n",
    "from sklearn import svm"
   ]
  },
  {
   "cell_type": "code",
   "execution_count": 16,
   "id": "41220e3f-de59-4127-8e92-fccb5dee86bd",
   "metadata": {},
   "outputs": [],
   "source": [
    "long_window = 15\n",
    "short_window=9\n",
    "ml_data = asset_data.copy()\n",
    "\n",
    "ml_data['actual_returns'] = ml_data['close'].pct_change()\n",
    "ml_data['sma_slow']= ml_data['close'].rolling(window=long_window).mean()\n",
    "ml_data['sma_fast']= ml_data['close'].rolling(window=short_window).mean()\n",
    "\n",
    "ml_data= ml_data.dropna()"
   ]
  },
  {
   "cell_type": "code",
   "execution_count": 17,
   "id": "28631c5e-9a49-4033-aa91-f172abf6102a",
   "metadata": {},
   "outputs": [
    {
     "data": {
      "text/html": [
       "<div>\n",
       "<style scoped>\n",
       "    .dataframe tbody tr th:only-of-type {\n",
       "        vertical-align: middle;\n",
       "    }\n",
       "\n",
       "    .dataframe tbody tr th {\n",
       "        vertical-align: top;\n",
       "    }\n",
       "\n",
       "    .dataframe thead th {\n",
       "        text-align: right;\n",
       "    }\n",
       "</style>\n",
       "<table border=\"1\" class=\"dataframe\">\n",
       "  <thead>\n",
       "    <tr style=\"text-align: right;\">\n",
       "      <th></th>\n",
       "      <th>sma_fast</th>\n",
       "      <th>sma_slow</th>\n",
       "    </tr>\n",
       "    <tr>\n",
       "      <th>dt</th>\n",
       "      <th></th>\n",
       "      <th></th>\n",
       "    </tr>\n",
       "  </thead>\n",
       "  <tbody>\n",
       "    <tr>\n",
       "      <th>2018-01-24</th>\n",
       "      <td>68.780666</td>\n",
       "      <td>67.122800</td>\n",
       "    </tr>\n",
       "    <tr>\n",
       "      <th>2018-01-25</th>\n",
       "      <td>69.027111</td>\n",
       "      <td>67.460933</td>\n",
       "    </tr>\n",
       "    <tr>\n",
       "      <th>2018-01-26</th>\n",
       "      <td>69.020222</td>\n",
       "      <td>67.732800</td>\n",
       "    </tr>\n",
       "    <tr>\n",
       "      <th>2018-01-29</th>\n",
       "      <td>69.167555</td>\n",
       "      <td>68.109200</td>\n",
       "    </tr>\n",
       "    <tr>\n",
       "      <th>2018-01-30</th>\n",
       "      <td>69.377999</td>\n",
       "      <td>68.548533</td>\n",
       "    </tr>\n",
       "  </tbody>\n",
       "</table>\n",
       "</div>"
      ],
      "text/plain": [
       "             sma_fast   sma_slow\n",
       "dt                              \n",
       "2018-01-24  68.780666  67.122800\n",
       "2018-01-25  69.027111  67.460933\n",
       "2018-01-26  69.020222  67.732800\n",
       "2018-01-29  69.167555  68.109200\n",
       "2018-01-30  69.377999  68.548533"
      ]
     },
     "metadata": {},
     "output_type": "display_data"
    },
    {
     "data": {
      "text/html": [
       "<div>\n",
       "<style scoped>\n",
       "    .dataframe tbody tr th:only-of-type {\n",
       "        vertical-align: middle;\n",
       "    }\n",
       "\n",
       "    .dataframe tbody tr th {\n",
       "        vertical-align: top;\n",
       "    }\n",
       "\n",
       "    .dataframe thead th {\n",
       "        text-align: right;\n",
       "    }\n",
       "</style>\n",
       "<table border=\"1\" class=\"dataframe\">\n",
       "  <thead>\n",
       "    <tr style=\"text-align: right;\">\n",
       "      <th></th>\n",
       "      <th>sma_fast</th>\n",
       "      <th>sma_slow</th>\n",
       "    </tr>\n",
       "    <tr>\n",
       "      <th>dt</th>\n",
       "      <th></th>\n",
       "      <th></th>\n",
       "    </tr>\n",
       "  </thead>\n",
       "  <tbody>\n",
       "    <tr>\n",
       "      <th>2021-12-22</th>\n",
       "      <td>957.744446</td>\n",
       "      <td>996.265995</td>\n",
       "    </tr>\n",
       "    <tr>\n",
       "      <th>2021-12-23</th>\n",
       "      <td>958.307780</td>\n",
       "      <td>990.523995</td>\n",
       "    </tr>\n",
       "    <tr>\n",
       "      <th>2021-12-27</th>\n",
       "      <td>963.859999</td>\n",
       "      <td>989.350663</td>\n",
       "    </tr>\n",
       "    <tr>\n",
       "      <th>2021-12-28</th>\n",
       "      <td>978.029995</td>\n",
       "      <td>994.615328</td>\n",
       "    </tr>\n",
       "    <tr>\n",
       "      <th>2021-12-29</th>\n",
       "      <td>992.469991</td>\n",
       "      <td>999.912659</td>\n",
       "    </tr>\n",
       "  </tbody>\n",
       "</table>\n",
       "</div>"
      ],
      "text/plain": [
       "              sma_fast    sma_slow\n",
       "dt                                \n",
       "2021-12-22  957.744446  996.265995\n",
       "2021-12-23  958.307780  990.523995\n",
       "2021-12-27  963.859999  989.350663\n",
       "2021-12-28  978.029995  994.615328\n",
       "2021-12-29  992.469991  999.912659"
      ]
     },
     "metadata": {},
     "output_type": "display_data"
    }
   ],
   "source": [
    "X = ml_data[['sma_fast', 'sma_slow']].shift().dropna().copy()\n",
    "display(X.head())\n",
    "display(X.tail())"
   ]
  },
  {
   "cell_type": "code",
   "execution_count": 19,
   "id": "36fa2103-a39e-4f08-ae40-f071f3261f18",
   "metadata": {},
   "outputs": [
    {
     "data": {
      "text/html": [
       "<div>\n",
       "<style scoped>\n",
       "    .dataframe tbody tr th:only-of-type {\n",
       "        vertical-align: middle;\n",
       "    }\n",
       "\n",
       "    .dataframe tbody tr th {\n",
       "        vertical-align: top;\n",
       "    }\n",
       "\n",
       "    .dataframe thead th {\n",
       "        text-align: right;\n",
       "    }\n",
       "</style>\n",
       "<table border=\"1\" class=\"dataframe\">\n",
       "  <thead>\n",
       "    <tr style=\"text-align: right;\">\n",
       "      <th></th>\n",
       "      <th>close</th>\n",
       "      <th>volume</th>\n",
       "      <th>actual_returns</th>\n",
       "      <th>sma_slow</th>\n",
       "      <th>sma_fast</th>\n",
       "      <th>signal</th>\n",
       "    </tr>\n",
       "    <tr>\n",
       "      <th>dt</th>\n",
       "      <th></th>\n",
       "      <th></th>\n",
       "      <th></th>\n",
       "      <th></th>\n",
       "      <th></th>\n",
       "      <th></th>\n",
       "    </tr>\n",
       "  </thead>\n",
       "  <tbody>\n",
       "    <tr>\n",
       "      <th>2018-01-23</th>\n",
       "      <td>70.557999</td>\n",
       "      <td>27327000</td>\n",
       "      <td>0.003499</td>\n",
       "      <td>67.122800</td>\n",
       "      <td>68.780666</td>\n",
       "      <td>1.0</td>\n",
       "    </tr>\n",
       "    <tr>\n",
       "      <th>2018-01-24</th>\n",
       "      <td>69.178001</td>\n",
       "      <td>26437500</td>\n",
       "      <td>-0.019558</td>\n",
       "      <td>67.460933</td>\n",
       "      <td>69.027111</td>\n",
       "      <td>-1.0</td>\n",
       "    </tr>\n",
       "    <tr>\n",
       "      <th>2018-01-25</th>\n",
       "      <td>67.528000</td>\n",
       "      <td>33701500</td>\n",
       "      <td>-0.023852</td>\n",
       "      <td>67.732800</td>\n",
       "      <td>69.020222</td>\n",
       "      <td>-1.0</td>\n",
       "    </tr>\n",
       "    <tr>\n",
       "      <th>2018-01-26</th>\n",
       "      <td>68.570000</td>\n",
       "      <td>22697000</td>\n",
       "      <td>0.015431</td>\n",
       "      <td>68.109200</td>\n",
       "      <td>69.167555</td>\n",
       "      <td>1.0</td>\n",
       "    </tr>\n",
       "    <tr>\n",
       "      <th>2018-01-29</th>\n",
       "      <td>69.905998</td>\n",
       "      <td>23735500</td>\n",
       "      <td>0.019484</td>\n",
       "      <td>68.548533</td>\n",
       "      <td>69.377999</td>\n",
       "      <td>1.0</td>\n",
       "    </tr>\n",
       "  </tbody>\n",
       "</table>\n",
       "</div>"
      ],
      "text/plain": [
       "                close    volume  actual_returns   sma_slow   sma_fast  signal\n",
       "dt                                                                           \n",
       "2018-01-23  70.557999  27327000        0.003499  67.122800  68.780666     1.0\n",
       "2018-01-24  69.178001  26437500       -0.019558  67.460933  69.027111    -1.0\n",
       "2018-01-25  67.528000  33701500       -0.023852  67.732800  69.020222    -1.0\n",
       "2018-01-26  68.570000  22697000        0.015431  68.109200  69.167555     1.0\n",
       "2018-01-29  69.905998  23735500        0.019484  68.548533  69.377999     1.0"
      ]
     },
     "execution_count": 19,
     "metadata": {},
     "output_type": "execute_result"
    }
   ],
   "source": [
    "ml_data['signal']=0.0\n",
    "ml_data.loc[(ml_data['actual_returns'] >= 0), 'signal'] = 1\n",
    "ml_data.loc[(ml_data['actual_returns'] < 0), 'signal'] = -1\n",
    "ml_data.head()"
   ]
  },
  {
   "cell_type": "code",
   "execution_count": 20,
   "id": "fef53f5c-8612-4d43-91fe-effd09348fcd",
   "metadata": {},
   "outputs": [],
   "source": [
    "y=ml_data['signal'].copy()"
   ]
  },
  {
   "cell_type": "code",
   "execution_count": 21,
   "id": "2dbace54-6ff8-4a51-82c3-1a6e600d488a",
   "metadata": {},
   "outputs": [
    {
     "data": {
      "text/plain": [
       "Timestamp('2018-01-24 00:00:00')"
      ]
     },
     "metadata": {},
     "output_type": "display_data"
    },
    {
     "data": {
      "text/plain": [
       "Timestamp('2021-06-24 00:00:00')"
      ]
     },
     "metadata": {},
     "output_type": "display_data"
    }
   ],
   "source": [
    "from pandas.tseries.offsets import DateOffset\n",
    "training_begin = X.index.min()\n",
    "training_end = X.index.min() + DateOffset(months =41)\n",
    "display(training_begin)\n",
    "display(training_end)"
   ]
  },
  {
   "cell_type": "code",
   "execution_count": 22,
   "id": "8207894c-9f2d-4903-8760-59b6de7d852c",
   "metadata": {},
   "outputs": [],
   "source": [
    "X_train = X.loc[training_begin:training_end]\n",
    "y_train = y.loc[training_begin:training_end]"
   ]
  },
  {
   "cell_type": "code",
   "execution_count": 23,
   "id": "a7d45a1b-ee52-48ad-89e7-a065ac6c9810",
   "metadata": {},
   "outputs": [],
   "source": [
    "X_test=X.loc[training_end:]\n",
    "y_test = y.loc[training_end:]"
   ]
  },
  {
   "cell_type": "code",
   "execution_count": 24,
   "id": "816bcf3f-18a1-400c-9af9-4fb7d9403a83",
   "metadata": {},
   "outputs": [],
   "source": [
    "from sklearn.preprocessing import StandardScaler\n",
    "\n",
    "scaler=StandardScaler()\n",
    "X_scaler=scaler.fit(X_train)\n",
    "X_train_scaled = X_scaler.transform(X_train)\n",
    "X_test_scaled= X_scaler.transform(X_test)"
   ]
  },
  {
   "cell_type": "code",
   "execution_count": 25,
   "id": "f2e605ce-774b-4399-9003-2f7ceb068667",
   "metadata": {},
   "outputs": [],
   "source": [
    "from sklearn import svm\n",
    "svm_model=svm.SVC()"
   ]
  },
  {
   "cell_type": "code",
   "execution_count": 26,
   "id": "357c7439-bbfb-47a6-ad2b-efef56021eb3",
   "metadata": {},
   "outputs": [],
   "source": [
    "svm_model = svm_model.fit(X_train_scaled, y_train)"
   ]
  },
  {
   "cell_type": "code",
   "execution_count": 27,
   "id": "5fa622d4-064e-47ce-9f0b-1c28c2aacfcd",
   "metadata": {},
   "outputs": [],
   "source": [
    "training_signal_predictions = svm_model.predict(X_train_scaled)"
   ]
  },
  {
   "cell_type": "code",
   "execution_count": 28,
   "id": "a2341c09-ae2b-44f2-99ef-eb4b4361030d",
   "metadata": {},
   "outputs": [
    {
     "data": {
      "text/plain": [
       "array([1., 1., 1., 1., 1., 1., 1., 1., 1., 1., 1., 1., 1., 1., 1.])"
      ]
     },
     "execution_count": 28,
     "metadata": {},
     "output_type": "execute_result"
    }
   ],
   "source": [
    "training_signal_predictions[:15]"
   ]
  },
  {
   "cell_type": "code",
   "execution_count": 29,
   "id": "98c7796a-f1c2-4392-8233-7ad1f402ac35",
   "metadata": {},
   "outputs": [
    {
     "name": "stdout",
     "output_type": "stream",
     "text": [
      "              precision    recall  f1-score   support\n",
      "\n",
      "        -1.0       0.57      0.05      0.09       416\n",
      "         1.0       0.52      0.96      0.68       445\n",
      "\n",
      "    accuracy                           0.52       861\n",
      "   macro avg       0.54      0.51      0.38       861\n",
      "weighted avg       0.54      0.52      0.39       861\n",
      "\n"
     ]
    }
   ],
   "source": [
    "from sklearn.metrics import classification_report\n",
    "training_report = classification_report(y_train, training_signal_predictions)\n",
    "print(training_report)"
   ]
  },
  {
   "cell_type": "code",
   "execution_count": 30,
   "id": "e6d5bc78-05b8-4a39-a8b6-0210ff199bc8",
   "metadata": {},
   "outputs": [],
   "source": [
    "testing_signal_predictions = svm_model.predict(X_test_scaled)"
   ]
  },
  {
   "cell_type": "code",
   "execution_count": 31,
   "id": "1a0371be-16d0-498f-b3a2-5c17f6c7bc27",
   "metadata": {},
   "outputs": [
    {
     "name": "stdout",
     "output_type": "stream",
     "text": [
      "              precision    recall  f1-score   support\n",
      "\n",
      "        -1.0       0.31      0.32      0.32        53\n",
      "         1.0       0.53      0.53      0.53        78\n",
      "\n",
      "    accuracy                           0.44       131\n",
      "   macro avg       0.42      0.42      0.42       131\n",
      "weighted avg       0.44      0.44      0.44       131\n",
      "\n"
     ]
    }
   ],
   "source": [
    "testing_report = classification_report(y_test, testing_signal_predictions)\n",
    "print(testing_report)\n"
   ]
  },
  {
   "cell_type": "code",
   "execution_count": 32,
   "id": "3b6ca793-1187-43b7-9fc0-be511f85fa62",
   "metadata": {},
   "outputs": [
    {
     "data": {
      "text/html": [
       "<div>\n",
       "<style scoped>\n",
       "    .dataframe tbody tr th:only-of-type {\n",
       "        vertical-align: middle;\n",
       "    }\n",
       "\n",
       "    .dataframe tbody tr th {\n",
       "        vertical-align: top;\n",
       "    }\n",
       "\n",
       "    .dataframe thead th {\n",
       "        text-align: right;\n",
       "    }\n",
       "</style>\n",
       "<table border=\"1\" class=\"dataframe\">\n",
       "  <thead>\n",
       "    <tr style=\"text-align: right;\">\n",
       "      <th></th>\n",
       "      <th>predicted_signal</th>\n",
       "      <th>actual_returns</th>\n",
       "      <th>trading_algorithm_returns</th>\n",
       "    </tr>\n",
       "    <tr>\n",
       "      <th>dt</th>\n",
       "      <th></th>\n",
       "      <th></th>\n",
       "      <th></th>\n",
       "    </tr>\n",
       "  </thead>\n",
       "  <tbody>\n",
       "    <tr>\n",
       "      <th>2021-06-24</th>\n",
       "      <td>1.0</td>\n",
       "      <td>0.035411</td>\n",
       "      <td>0.035411</td>\n",
       "    </tr>\n",
       "    <tr>\n",
       "      <th>2021-06-25</th>\n",
       "      <td>1.0</td>\n",
       "      <td>-0.011694</td>\n",
       "      <td>-0.011694</td>\n",
       "    </tr>\n",
       "    <tr>\n",
       "      <th>2021-06-28</th>\n",
       "      <td>1.0</td>\n",
       "      <td>0.025079</td>\n",
       "      <td>0.025079</td>\n",
       "    </tr>\n",
       "    <tr>\n",
       "      <th>2021-06-29</th>\n",
       "      <td>1.0</td>\n",
       "      <td>-0.011558</td>\n",
       "      <td>-0.011558</td>\n",
       "    </tr>\n",
       "    <tr>\n",
       "      <th>2021-06-30</th>\n",
       "      <td>1.0</td>\n",
       "      <td>-0.001557</td>\n",
       "      <td>-0.001557</td>\n",
       "    </tr>\n",
       "  </tbody>\n",
       "</table>\n",
       "</div>"
      ],
      "text/plain": [
       "            predicted_signal  actual_returns  trading_algorithm_returns\n",
       "dt                                                                     \n",
       "2021-06-24               1.0        0.035411                   0.035411\n",
       "2021-06-25               1.0       -0.011694                  -0.011694\n",
       "2021-06-28               1.0        0.025079                   0.025079\n",
       "2021-06-29               1.0       -0.011558                  -0.011558\n",
       "2021-06-30               1.0       -0.001557                  -0.001557"
      ]
     },
     "execution_count": 32,
     "metadata": {},
     "output_type": "execute_result"
    }
   ],
   "source": [
    "# Create a predictions DataFrame\n",
    "predictions_df = pd.DataFrame(index=X_test.index)\n",
    "predictions_df[\"predicted_signal\"] = testing_signal_predictions\n",
    "predictions_df[\"actual_returns\"] = ml_data[\"actual_returns\"]\n",
    "predictions_df[\"trading_algorithm_returns\"] = (predictions_df[\"actual_returns\"] * predictions_df[\"predicted_signal\"])\n",
    "\n",
    "predictions_df.head()"
   ]
  },
  {
   "cell_type": "code",
   "execution_count": 33,
   "id": "923a82f8-e663-4b8a-af68-7e1b23ef8dcb",
   "metadata": {},
   "outputs": [
    {
     "data": {
      "text/plain": [
       "<matplotlib.axes._subplots.AxesSubplot at 0x1f5c4b3b508>"
      ]
     },
     "execution_count": 33,
     "metadata": {},
     "output_type": "execute_result"
    },
    {
     "data": {
      "image/png": "[encoded data removed]",
      "text/plain": [
       "<Figure size 640x480 with 1 Axes>"
      ]
     },
     "metadata": {},
     "output_type": "display_data"
    }
   ],
   "source": [
    "(1 + predictions_df[[\"actual_returns\", \"trading_algorithm_returns\"]]).cumprod().plot()"
   ]
  },
  {
   "cell_type": "code",
   "execution_count": null,
   "id": "bdada17a-5253-4f9f-866f-8897a14ad45d",
   "metadata": {},
   "outputs": [],
   "source": []
  },
  {
   "cell_type": "code",
   "execution_count": 34,
   "id": "62f40ffb-708e-43f9-b17e-f74cff5e10fc",
   "metadata": {},
   "outputs": [],
   "source": [
    "from sklearn.linear_model import LogisticRegression\n",
    "logistic_regression_model = LogisticRegression()"
   ]
  },
  {
   "cell_type": "code",
   "execution_count": 35,
   "id": "125b01de-0fed-4576-b696-f8a22e8120a4",
   "metadata": {},
   "outputs": [
    {
     "data": {
      "text/plain": [
       "LogisticRegression()"
      ]
     },
     "execution_count": 35,
     "metadata": {},
     "output_type": "execute_result"
    }
   ],
   "source": [
    "logistic_regression_model.fit(X_train_scaled, y_train)"
   ]
  },
  {
   "cell_type": "code",
   "execution_count": 36,
   "id": "70a9ec26-9c60-4234-897d-57a1ef819391",
   "metadata": {},
   "outputs": [],
   "source": [
    "predictions = logistic_regression_model.predict(X_train_scaled)"
   ]
  },
  {
   "cell_type": "code",
   "execution_count": 37,
   "id": "e104e929-1a46-4451-84d1-ef705385caa1",
   "metadata": {},
   "outputs": [
    {
     "data": {
      "text/html": [
       "<div>\n",
       "<style scoped>\n",
       "    .dataframe tbody tr th:only-of-type {\n",
       "        vertical-align: middle;\n",
       "    }\n",
       "\n",
       "    .dataframe tbody tr th {\n",
       "        vertical-align: top;\n",
       "    }\n",
       "\n",
       "    .dataframe thead th {\n",
       "        text-align: right;\n",
       "    }\n",
       "</style>\n",
       "<table border=\"1\" class=\"dataframe\">\n",
       "  <thead>\n",
       "    <tr style=\"text-align: right;\">\n",
       "      <th></th>\n",
       "      <th>Prediction</th>\n",
       "      <th>Actual</th>\n",
       "    </tr>\n",
       "    <tr>\n",
       "      <th>dt</th>\n",
       "      <th></th>\n",
       "      <th></th>\n",
       "    </tr>\n",
       "  </thead>\n",
       "  <tbody>\n",
       "    <tr>\n",
       "      <th>2018-01-24</th>\n",
       "      <td>1.0</td>\n",
       "      <td>-1.0</td>\n",
       "    </tr>\n",
       "    <tr>\n",
       "      <th>2018-01-25</th>\n",
       "      <td>1.0</td>\n",
       "      <td>-1.0</td>\n",
       "    </tr>\n",
       "    <tr>\n",
       "      <th>2018-01-26</th>\n",
       "      <td>1.0</td>\n",
       "      <td>1.0</td>\n",
       "    </tr>\n",
       "    <tr>\n",
       "      <th>2018-01-29</th>\n",
       "      <td>1.0</td>\n",
       "      <td>1.0</td>\n",
       "    </tr>\n",
       "    <tr>\n",
       "      <th>2018-01-30</th>\n",
       "      <td>1.0</td>\n",
       "      <td>-1.0</td>\n",
       "    </tr>\n",
       "    <tr>\n",
       "      <th>...</th>\n",
       "      <td>...</td>\n",
       "      <td>...</td>\n",
       "    </tr>\n",
       "    <tr>\n",
       "      <th>2021-06-18</th>\n",
       "      <td>1.0</td>\n",
       "      <td>1.0</td>\n",
       "    </tr>\n",
       "    <tr>\n",
       "      <th>2021-06-21</th>\n",
       "      <td>1.0</td>\n",
       "      <td>-1.0</td>\n",
       "    </tr>\n",
       "    <tr>\n",
       "      <th>2021-06-22</th>\n",
       "      <td>1.0</td>\n",
       "      <td>1.0</td>\n",
       "    </tr>\n",
       "    <tr>\n",
       "      <th>2021-06-23</th>\n",
       "      <td>1.0</td>\n",
       "      <td>1.0</td>\n",
       "    </tr>\n",
       "    <tr>\n",
       "      <th>2021-06-24</th>\n",
       "      <td>1.0</td>\n",
       "      <td>1.0</td>\n",
       "    </tr>\n",
       "  </tbody>\n",
       "</table>\n",
       "<p>861 rows × 2 columns</p>\n",
       "</div>"
      ],
      "text/plain": [
       "            Prediction  Actual\n",
       "dt                            \n",
       "2018-01-24         1.0    -1.0\n",
       "2018-01-25         1.0    -1.0\n",
       "2018-01-26         1.0     1.0\n",
       "2018-01-29         1.0     1.0\n",
       "2018-01-30         1.0    -1.0\n",
       "...                ...     ...\n",
       "2021-06-18         1.0     1.0\n",
       "2021-06-21         1.0    -1.0\n",
       "2021-06-22         1.0     1.0\n",
       "2021-06-23         1.0     1.0\n",
       "2021-06-24         1.0     1.0\n",
       "\n",
       "[861 rows x 2 columns]"
      ]
     },
     "execution_count": 37,
     "metadata": {},
     "output_type": "execute_result"
    }
   ],
   "source": [
    "results_df = pd.DataFrame({\"Prediction\": predictions, \"Actual\": y_train})\n",
    "results_df"
   ]
  },
  {
   "cell_type": "code",
   "execution_count": 38,
   "id": "6f221814-18b6-4328-945b-b2769bce3f21",
   "metadata": {},
   "outputs": [
    {
     "data": {
      "text/html": [
       "<div>\n",
       "<style scoped>\n",
       "    .dataframe tbody tr th:only-of-type {\n",
       "        vertical-align: middle;\n",
       "    }\n",
       "\n",
       "    .dataframe tbody tr th {\n",
       "        vertical-align: top;\n",
       "    }\n",
       "\n",
       "    .dataframe thead th {\n",
       "        text-align: right;\n",
       "    }\n",
       "</style>\n",
       "<table border=\"1\" class=\"dataframe\">\n",
       "  <thead>\n",
       "    <tr style=\"text-align: right;\">\n",
       "      <th></th>\n",
       "      <th>Testing Data Predictions</th>\n",
       "      <th>Testing Data Actual Targets</th>\n",
       "    </tr>\n",
       "    <tr>\n",
       "      <th>dt</th>\n",
       "      <th></th>\n",
       "      <th></th>\n",
       "    </tr>\n",
       "  </thead>\n",
       "  <tbody>\n",
       "    <tr>\n",
       "      <th>2021-06-24</th>\n",
       "      <td>1.0</td>\n",
       "      <td>1.0</td>\n",
       "    </tr>\n",
       "    <tr>\n",
       "      <th>2021-06-25</th>\n",
       "      <td>1.0</td>\n",
       "      <td>-1.0</td>\n",
       "    </tr>\n",
       "    <tr>\n",
       "      <th>2021-06-28</th>\n",
       "      <td>1.0</td>\n",
       "      <td>1.0</td>\n",
       "    </tr>\n",
       "    <tr>\n",
       "      <th>2021-06-29</th>\n",
       "      <td>1.0</td>\n",
       "      <td>-1.0</td>\n",
       "    </tr>\n",
       "    <tr>\n",
       "      <th>2021-06-30</th>\n",
       "      <td>1.0</td>\n",
       "      <td>-1.0</td>\n",
       "    </tr>\n",
       "    <tr>\n",
       "      <th>...</th>\n",
       "      <td>...</td>\n",
       "      <td>...</td>\n",
       "    </tr>\n",
       "    <tr>\n",
       "      <th>2021-12-22</th>\n",
       "      <td>-1.0</td>\n",
       "      <td>1.0</td>\n",
       "    </tr>\n",
       "    <tr>\n",
       "      <th>2021-12-23</th>\n",
       "      <td>1.0</td>\n",
       "      <td>1.0</td>\n",
       "    </tr>\n",
       "    <tr>\n",
       "      <th>2021-12-27</th>\n",
       "      <td>1.0</td>\n",
       "      <td>1.0</td>\n",
       "    </tr>\n",
       "    <tr>\n",
       "      <th>2021-12-28</th>\n",
       "      <td>1.0</td>\n",
       "      <td>-1.0</td>\n",
       "    </tr>\n",
       "    <tr>\n",
       "      <th>2021-12-29</th>\n",
       "      <td>1.0</td>\n",
       "      <td>-1.0</td>\n",
       "    </tr>\n",
       "  </tbody>\n",
       "</table>\n",
       "<p>131 rows × 2 columns</p>\n",
       "</div>"
      ],
      "text/plain": [
       "            Testing Data Predictions  Testing Data Actual Targets\n",
       "dt                                                               \n",
       "2021-06-24                       1.0                          1.0\n",
       "2021-06-25                       1.0                         -1.0\n",
       "2021-06-28                       1.0                          1.0\n",
       "2021-06-29                       1.0                         -1.0\n",
       "2021-06-30                       1.0                         -1.0\n",
       "...                              ...                          ...\n",
       "2021-12-22                      -1.0                          1.0\n",
       "2021-12-23                       1.0                          1.0\n",
       "2021-12-27                       1.0                          1.0\n",
       "2021-12-28                       1.0                         -1.0\n",
       "2021-12-29                       1.0                         -1.0\n",
       "\n",
       "[131 rows x 2 columns]"
      ]
     },
     "execution_count": 38,
     "metadata": {},
     "output_type": "execute_result"
    }
   ],
   "source": [
    "testing_predictions = logistic_regression_model.predict(X_test)\n",
    "\n",
    "# Save both the test predictions and actual test values to a DataFrame\n",
    "results_df = pd.DataFrame({\n",
    "    \"Testing Data Predictions\": testing_predictions,\n",
    "    \"Testing Data Actual Targets\": y_test})\n",
    "results_df"
   ]
  },
  {
   "cell_type": "code",
   "execution_count": 39,
   "id": "9605ba07-0757-4038-9aad-9df69a600f25",
   "metadata": {},
   "outputs": [],
   "source": [
    "from sklearn.metrics import accuracy_score"
   ]
  },
  {
   "cell_type": "code",
   "execution_count": 40,
   "id": "06e87025-3d19-491a-80d1-2d80bdfc909b",
   "metadata": {},
   "outputs": [
    {
     "data": {
      "text/plain": [
       "0.5801526717557252"
      ]
     },
     "execution_count": 40,
     "metadata": {},
     "output_type": "execute_result"
    }
   ],
   "source": [
    "accuracy_score(testing_predictions, y_test)"
   ]
  },
  {
   "cell_type": "code",
   "execution_count": null,
   "id": "b603b398-cfe2-4246-836b-a9916fdbb3b0",
   "metadata": {},
   "outputs": [],
   "source": []
  },
  {
   "cell_type": "code",
   "execution_count": null,
   "id": "a6ecb635-6ae3-4157-b30f-9c095dce13bf",
   "metadata": {},
   "outputs": [],
   "source": []
  },
  {
   "cell_type": "code",
   "execution_count": null,
   "id": "a2157a95-1f67-4884-9cae-ef8fe226921f",
   "metadata": {},
   "outputs": [],
   "source": []
  },
  {
   "cell_type": "code",
   "execution_count": null,
   "id": "f4a22f18-b539-4c06-bff2-0847679b210d",
   "metadata": {},
   "outputs": [],
   "source": []
  },
  {
   "cell_type": "code",
   "execution_count": null,
   "id": "0f2edf31-1e71-444f-b4e5-73072c0407d5",
   "metadata": {},
   "outputs": [],
   "source": []
  },
  {
   "cell_type": "code",
   "execution_count": null,
   "id": "530391b2-8e7d-486f-948c-d2154aedd592",
   "metadata": {},
   "outputs": [],
   "source": []
  },
  {
   "cell_type": "code",
   "execution_count": null,
   "id": "963e73ad-e08c-41f1-bae6-dcdae420615e",
   "metadata": {},
   "outputs": [],
   "source": []
  }
 ],
 "metadata": {
  "kernelspec": {
   "display_name": "Python 3 (ipykernel)",
   "language": "python",
   "name": "python3"
  },
  "language_info": {
   "codemirror_mode": {
    "name": "ipython",
    "version": 3
   },
   "file_extension": ".py",
   "mimetype": "text/x-python",
   "name": "python",
   "nbconvert_exporter": "python",
   "pygments_lexer": "ipython3",
   "version": "3.7.11"
  }
 },
 "nbformat": 4,
 "nbformat_minor": 5
}
